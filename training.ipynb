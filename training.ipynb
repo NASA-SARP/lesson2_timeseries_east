{
 "cells": [
  {
   "cell_type": "markdown",
   "id": "f0ecd9b3-f92e-4ff5-ae50-650532c120e1",
   "metadata": {
    "user_expressions": []
   },
   "source": [
    "# Working with time series data"
   ]
  },
  {
   "cell_type": "markdown",
   "id": "e8fc83ef-f209-466c-95d3-38251f03f722",
   "metadata": {
    "user_expressions": []
   },
   "source": [
    "::::{grid}\n",
    "\n",
    ":::{card}\n",
    ":header: Context 🤔 \n",
    "Today we are building up our arsenal of data structures with a really exciting one - the `pandas` `Dataframe`.  This is a data structure that models **tabular data**, or data with labelled rows and columns. Learning this data structure will allow us to start manipulating large datasets of that format, and do things that we couldn't otherwise do in a program like excel.\n",
    ":::\n",
    "\n",
    ":::{card}\n",
    ":header: Outcomes 🎓 \n",
    "Create pandas dataframes, locate values within a dataframe, and run functions on a dataframe. \n",
    "\n",
    "Use pandas to open some example airborne data from the SARP data folder.\n",
    ":::\n",
    "\n",
    ":::{card}\n",
    ":header: Skills 🤓 \n",
    "Creating filepaths and navigating the data directory.\n",
    "::: \n",
    "::::"
   ]
  },
  {
   "cell_type": "markdown",
   "id": "ef40ad5b-4077-4f16-8b77-bab2f95759ba",
   "metadata": {
    "user_expressions": []
   },
   "source": [
    "## From Lists to DataFrames - Labelled Data\n",
    "\n",
    "Our first Python data structure was a List, which organized values in a certain order using an **index**. Indexing is common, but it requires the programmer to track the meaning of each item in the list in their head.\n",
    "\n",
    "As an example, let's take a list which represents several days of forecast Air Quality Index (AQI) data for Hampton Roads, VA.\n",
    "\n",
    "```{image} ./images/hampton_aqi.png\n",
    ":alt: Github logo\n",
    ":width: 400px\n",
    ":align: center\n",
    "```"
   ]
  },
  {
   "cell_type": "code",
   "execution_count": 11,
   "id": "5404e43f-b7d2-4b74-9eb1-5521d5bdd85a",
   "metadata": {},
   "outputs": [
    {
     "data": {
      "text/plain": [
       "[38, 38, 69, 60, 61, 48, 39]"
      ]
     },
     "execution_count": 11,
     "metadata": {},
     "output_type": "execute_result"
    }
   ],
   "source": [
    "hampton_aqi_list = [38, 38, 69, 60, 61, 48, 39]\n",
    "\n",
    "hampton_aqi_list"
   ]
  },
  {
   "cell_type": "markdown",
   "id": "8a1bc313-d7cb-4a3a-b541-e5fa96fc3d07",
   "metadata": {
    "user_expressions": []
   },
   "source": [
    "If someone wanted to know \"what is the AQI value for June 10th?\" they would have to figure out that Jun 10th is the 6th value in the list. It therefore has index 5 and is accessed like:"
   ]
  },
  {
   "cell_type": "code",
   "execution_count": 13,
   "id": "fcc75b94-fb65-4762-b9dd-b7704cdfe2bc",
   "metadata": {},
   "outputs": [
    {
     "data": {
      "text/plain": [
       "48"
      ]
     },
     "execution_count": 13,
     "metadata": {},
     "output_type": "execute_result"
    }
   ],
   "source": [
    "hampton_aqi_list[5]"
   ]
  },
  {
   "cell_type": "markdown",
   "id": "47b8fdfa-bcb8-4457-9185-ede95a58b10d",
   "metadata": {
    "user_expressions": []
   },
   "source": [
    "Pandas is also a library for keeping track of a list of values, but pandas data is **labelled**. This means that in addition to indexes values can be extracted using names. Here is an example of a pandas dataframe, the core pandas data structure, with the same data in it:"
   ]
  },
  {
   "cell_type": "code",
   "execution_count": 15,
   "id": "e54a1087-40cf-4fc4-8e94-65f41f2247a0",
   "metadata": {},
   "outputs": [],
   "source": [
    "import pandas as pd"
   ]
  },
  {
   "cell_type": "code",
   "execution_count": 22,
   "id": "482c0fb7-da75-4f9a-bb95-db6e7770d1c2",
   "metadata": {},
   "outputs": [
    {
     "data": {
      "text/html": [
       "<div>\n",
       "<style scoped>\n",
       "    .dataframe tbody tr th:only-of-type {\n",
       "        vertical-align: middle;\n",
       "    }\n",
       "\n",
       "    .dataframe tbody tr th {\n",
       "        vertical-align: top;\n",
       "    }\n",
       "\n",
       "    .dataframe thead th {\n",
       "        text-align: right;\n",
       "    }\n",
       "</style>\n",
       "<table border=\"1\" class=\"dataframe\">\n",
       "  <thead>\n",
       "    <tr style=\"text-align: right;\">\n",
       "      <th></th>\n",
       "      <th>AQI</th>\n",
       "    </tr>\n",
       "  </thead>\n",
       "  <tbody>\n",
       "    <tr>\n",
       "      <th>2023-06-05</th>\n",
       "      <td>38</td>\n",
       "    </tr>\n",
       "    <tr>\n",
       "      <th>2023-06-06</th>\n",
       "      <td>38</td>\n",
       "    </tr>\n",
       "    <tr>\n",
       "      <th>2023-06-07</th>\n",
       "      <td>69</td>\n",
       "    </tr>\n",
       "    <tr>\n",
       "      <th>2023-06-08</th>\n",
       "      <td>60</td>\n",
       "    </tr>\n",
       "    <tr>\n",
       "      <th>2023-06-09</th>\n",
       "      <td>61</td>\n",
       "    </tr>\n",
       "    <tr>\n",
       "      <th>2023-06-10</th>\n",
       "      <td>48</td>\n",
       "    </tr>\n",
       "    <tr>\n",
       "      <th>2023-06-11</th>\n",
       "      <td>39</td>\n",
       "    </tr>\n",
       "  </tbody>\n",
       "</table>\n",
       "</div>"
      ],
      "text/plain": [
       "            AQI\n",
       "2023-06-05   38\n",
       "2023-06-06   38\n",
       "2023-06-07   69\n",
       "2023-06-08   60\n",
       "2023-06-09   61\n",
       "2023-06-10   48\n",
       "2023-06-11   39"
      ]
     },
     "execution_count": 22,
     "metadata": {},
     "output_type": "execute_result"
    }
   ],
   "source": [
    "hampton_aqi_df = pd.DataFrame({'AQI': [38, 38, 69, 60, 61, 48, 39],}, \n",
    "                              index= ['2023-06-05', '2023-06-06', '2023-06-07', '2023-06-08', \n",
    "                                      '2023-06-09', '2023-06-10', '2023-06-11']\n",
    "                             )\n",
    "hampton_aqi_df"
   ]
  },
  {
   "cell_type": "code",
   "execution_count": 30,
   "id": "3183b372-86d2-46ab-a317-a2cedd2dfdc7",
   "metadata": {},
   "outputs": [
    {
     "data": {
      "text/plain": [
       "AQI    48\n",
       "Name: 2023-06-10, dtype: int64"
      ]
     },
     "execution_count": 30,
     "metadata": {},
     "output_type": "execute_result"
    }
   ],
   "source": [
    "hampton_aqi_df.loc['2023-06-10']"
   ]
  },
  {
   "cell_type": "markdown",
   "id": "ccf2c9ea-de2e-4e53-9755-367314fd28d9",
   "metadata": {},
   "source": [
    "## 🗃️ Libraries"
   ]
  },
  {
   "cell_type": "markdown",
   "id": "40685c77-4db5-4ddc-8cb0-ce209d42bfe8",
   "metadata": {},
   "source": [
    "Today we are going to dig into our first library in Python!  A **library** is a like an \"extras\" package for a programming language (think Settlers of Catan expansion pack).  It is a set of commands that doesn't automatically come activated when you use Python, but that you can still use if you just tell Python that you plan to do so.  You let python know you are going to use a library with an `import` statment.  After you do that the additional commands become availble."
   ]
  },
  {
   "cell_type": "code",
   "execution_count": 1,
   "id": "262d1779-e26e-4360-9d09-07319e79a710",
   "metadata": {},
   "outputs": [
    {
     "ename": "NameError",
     "evalue": "name 'math' is not defined",
     "output_type": "error",
     "traceback": [
      "\u001b[0;31m---------------------------------------------------------------------------\u001b[0m",
      "\u001b[0;31mNameError\u001b[0m                                 Traceback (most recent call last)",
      "Input \u001b[0;32mIn [1]\u001b[0m, in \u001b[0;36m<cell line: 2>\u001b[0;34m()\u001b[0m\n\u001b[1;32m      1\u001b[0m \u001b[38;5;66;03m# Attempting to use the `math` library before importing\u001b[39;00m\n\u001b[0;32m----> 2\u001b[0m \u001b[43mmath\u001b[49m\u001b[38;5;241m.\u001b[39mfactorial(\u001b[38;5;241m3\u001b[39m)\n",
      "\u001b[0;31mNameError\u001b[0m: name 'math' is not defined"
     ]
    }
   ],
   "source": [
    "# Attempting to use the `math` library before importing\n",
    "math.factorial(3)"
   ]
  },
  {
   "cell_type": "code",
   "execution_count": 57,
   "id": "44dfeb63-9db1-4ab3-8e53-b8f0629705e8",
   "metadata": {},
   "outputs": [],
   "source": [
    "# Importing a Python library\n",
    "import math"
   ]
  },
  {
   "cell_type": "code",
   "execution_count": 58,
   "id": "029a36f7-05af-4bb7-b8c6-74addd2de6bc",
   "metadata": {},
   "outputs": [
    {
     "data": {
      "text/plain": [
       "6"
      ]
     },
     "execution_count": 58,
     "metadata": {},
     "output_type": "execute_result"
    }
   ],
   "source": [
    "# Attempt #2 to use the `math` libray, after importing\n",
    "math.factorial(3)"
   ]
  },
  {
   "cell_type": "markdown",
   "id": "8a4990be-3855-49d5-b437-a3af27fe8e5c",
   "metadata": {},
   "source": [
    "Once we have imported the library we can use the new commands that the library contains.  The `math` library was just an example and it isn't the focus of this lesson, but if you want you can see a list of `math` commands [here](https://docs.python.org/3/library/math.html)."
   ]
  },
  {
   "cell_type": "markdown",
   "id": "46bf579d-ee92-45a5-a90c-fc620508acf5",
   "metadata": {
    "user_expressions": []
   },
   "source": [
    "````{seealso} Vocabulary\n",
    "\n",
    "**Library:** additional coding objects (Ex. functions, data structures) that you can add to your code by importing them\n",
    "\n",
    "````"
   ]
  },
  {
   "cell_type": "markdown",
   "id": "3a910ede-8d1d-4e22-8d39-5c23f4414001",
   "metadata": {},
   "source": [
    ":::{admonition} 🌀 More Info: Standard vs. Non-standard Libraries\n",
    ":class: note, dropdown\n",
    "\n",
    "One large chunk of libraries are together referred to as the **Python Standard Library**. These libraries are not a part of the \"core\" language (everything we can do without import statments) but have still been offically accepted into the Python distribution package and are maintained in the same way as the rest of the core language.  You can read more [here](https://docs.python.org/3/tutorial/stdlib.html).\n",
    "\n",
    "There are also libraries which aren't a part of this designation, and are still widely used and developed, but they are simply not included when you hit the \"Download Python\" button.  Non-standard libraries are maintained by groups of developers outside of the Python Software Foundation and anyone can make one.  That includes you!\n",
    "\n",
    ":::"
   ]
  },
  {
   "cell_type": "markdown",
   "id": "00ccb287-2228-4458-9a23-fce6c997264f",
   "metadata": {},
   "source": [
    "## 🐼 Tabular Data and `pandas`"
   ]
  },
  {
   "cell_type": "markdown",
   "id": "f25e4306-24da-400e-a53f-b79ae725d19f",
   "metadata": {},
   "source": [
    "**Tabular data** is the type of data that you would see in an excel sheet.  Data is organized into rows (horizontal) and columns (vertical).  It is also common for tabular data to have an index which uniquely lables the rows.  A really common type of tabular data is a CSV file."
   ]
  },
  {
   "attachments": {
    "L3_tabular_data.png": {
     "image/png": "[encoded data removed]"
    }
   },
   "cell_type": "markdown",
   "id": "9ce30338-c48b-4190-85d8-ae5a3e74b85d",
   "metadata": {
    "user_expressions": []
   },
   "source": [
    "![L3_tabular_data.png](./images/tabular_data.png)"
   ]
  },
  {
   "cell_type": "markdown",
   "id": "adac0d04-ad79-461d-8bc5-6f257a6e9411",
   "metadata": {
    "user_expressions": []
   },
   "source": [
    "Where are the rows, columns, and indexes in this excel sheet?"
   ]
  },
  {
   "cell_type": "markdown",
   "id": "9b18a11d-b8fe-49eb-884b-981ea489cca5",
   "metadata": {
    "user_expressions": []
   },
   "source": [
    "## `pandas` library 🐼"
   ]
  },
  {
   "cell_type": "markdown",
   "id": "5ba484cc-3351-4bad-8d54-3c3a552b3507",
   "metadata": {
    "user_expressions": []
   },
   "source": [
    "`pandas` is a very common library that is used for working with tabular data.  It is cannonically imported like this:"
   ]
  },
  {
   "cell_type": "code",
   "execution_count": 3,
   "id": "83e09185-2537-4598-a169-f98259c0481b",
   "metadata": {},
   "outputs": [],
   "source": [
    "# Import the libary.  You only have to do this once per file.\n",
    "import pandas as pd"
   ]
  },
  {
   "cell_type": "code",
   "execution_count": 72,
   "id": "d9144973-0750-4a70-9150-0c4363e87fc4",
   "metadata": {},
   "outputs": [],
   "source": [
    "# This line shortens the output. It will be explained more later in the notebook.\n",
    "pd.set_option('display.max_rows', 200)\n",
    "pd.set_option('display.max_columns', 12)"
   ]
  },
  {
   "cell_type": "markdown",
   "id": "5994a5fe-91fa-4c02-846a-aa5f6bf15e16",
   "metadata": {
    "user_expressions": []
   },
   "source": [
    "## `pandas` Data structure: `pd.DataFrame`"
   ]
  },
  {
   "cell_type": "markdown",
   "id": "6f3b90d4-e2f2-4e19-ad5f-5c96114fdddc",
   "metadata": {
    "user_expressions": []
   },
   "source": [
    "A `pandas` **dataframe** is a data structure organized into rows and columns.  Other important parts of the anatomy of a data frame are the columns names and the index.\n",
    "\n",
    "```{image} ./images/pandas_dataframe.png\n",
    ":alt: pandas dataframe\n",
    ":width: 600px\n",
    ":align: center\n",
    "```\n",
    "\n",
    "_Image ammended from \n",
    "[pandas documentation](https://pandas.pydata.org/docs/getting_started/intro_tutorials/01_table_oriented.html)._"
   ]
  },
  {
   "cell_type": "markdown",
   "id": "98aa6b06-4769-429b-b627-7c95088fa144",
   "metadata": {},
   "source": [
    "Here's how we can make one from a little bit of scratch data."
   ]
  },
  {
   "cell_type": "code",
   "execution_count": 52,
   "id": "4fca4068-885a-4dd7-af32-1a78418b6b3d",
   "metadata": {},
   "outputs": [],
   "source": [
    "# Step 1 - Define our fake data with a dictionary\n",
    "forecast_dict = {\n",
    "    'temperature': [25, 20, 27, 31], \n",
    "    'humidity': [60, 65, 62, 80],\n",
    "    'wind_speed': [10, 9, 10, 6]\n",
    "}\n",
    "# Step 2 - use `pd.DataFrame()` to convert our dictionary into a dataframe\n",
    "# Assign it to a variable called `forecast`\n",
    "forecast = pd.DataFrame(forecast_dict, \n",
    "                        index  = ['2020-07-01', '2020-07-02', '2020-07-03', '2020-07-04'])"
   ]
  },
  {
   "cell_type": "code",
   "execution_count": 53,
   "id": "4823c83a-c224-4088-abbe-b8c1f519ea4a",
   "metadata": {},
   "outputs": [
    {
     "data": {
      "text/html": [
       "<div>\n",
       "<style scoped>\n",
       "    .dataframe tbody tr th:only-of-type {\n",
       "        vertical-align: middle;\n",
       "    }\n",
       "\n",
       "    .dataframe tbody tr th {\n",
       "        vertical-align: top;\n",
       "    }\n",
       "\n",
       "    .dataframe thead th {\n",
       "        text-align: right;\n",
       "    }\n",
       "</style>\n",
       "<table border=\"1\" class=\"dataframe\">\n",
       "  <thead>\n",
       "    <tr style=\"text-align: right;\">\n",
       "      <th></th>\n",
       "      <th>temperature</th>\n",
       "      <th>humidity</th>\n",
       "      <th>wind_speed</th>\n",
       "    </tr>\n",
       "  </thead>\n",
       "  <tbody>\n",
       "    <tr>\n",
       "      <th>2020-07-01</th>\n",
       "      <td>25</td>\n",
       "      <td>60</td>\n",
       "      <td>10</td>\n",
       "    </tr>\n",
       "    <tr>\n",
       "      <th>2020-07-02</th>\n",
       "      <td>20</td>\n",
       "      <td>65</td>\n",
       "      <td>9</td>\n",
       "    </tr>\n",
       "    <tr>\n",
       "      <th>2020-07-03</th>\n",
       "      <td>27</td>\n",
       "      <td>62</td>\n",
       "      <td>10</td>\n",
       "    </tr>\n",
       "    <tr>\n",
       "      <th>2020-07-04</th>\n",
       "      <td>31</td>\n",
       "      <td>80</td>\n",
       "      <td>6</td>\n",
       "    </tr>\n",
       "  </tbody>\n",
       "</table>\n",
       "</div>"
      ],
      "text/plain": [
       "            temperature  humidity  wind_speed\n",
       "2020-07-01           25        60          10\n",
       "2020-07-02           20        65           9\n",
       "2020-07-03           27        62          10\n",
       "2020-07-04           31        80           6"
      ]
     },
     "execution_count": 53,
     "metadata": {},
     "output_type": "execute_result"
    }
   ],
   "source": [
    "# View the dataframe\n",
    "forecast"
   ]
  },
  {
   "cell_type": "markdown",
   "id": "24483fe8-467e-49b8-be4a-24d2293a5298",
   "metadata": {
    "user_expressions": []
   },
   "source": [
    "Our first dataframe!  We can see that we have 3 columns, with column names `temperature`, `humidity`, and `wind_speed`.  We have 4 data entries, or 4 rows, labeled by our indexes, which in this case are just the numbers 0-3."
   ]
  },
  {
   "cell_type": "code",
   "execution_count": 56,
   "id": "ebf7c297-87d6-4331-a97d-60b886faef7c",
   "metadata": {},
   "outputs": [
    {
     "data": {
      "text/plain": [
       "temperature    27\n",
       "humidity       62\n",
       "wind_speed     10\n",
       "Name: 2020-07-03, dtype: int64"
      ]
     },
     "execution_count": 56,
     "metadata": {},
     "output_type": "execute_result"
    }
   ],
   "source": [
    "forecast.loc['2020-07-03']"
   ]
  },
  {
   "cell_type": "markdown",
   "id": "34fa3b3e-37a4-4cea-ac30-033d5af8ff7d",
   "metadata": {
    "user_expressions": []
   },
   "source": [
    "## Accessing values in `pd.DataFrame()`"
   ]
  },
  {
   "cell_type": "markdown",
   "id": "43802fca-5e6d-4f4a-a0a1-fee6155900ba",
   "metadata": {
    "user_expressions": []
   },
   "source": [
    "Even though pandas dataframes are new data structures, some of the patterns for accessing data are very similar to what we saw in the list and dictionary data structures.  What's exciting is that the concept -- indexing -- is conceptually similar and so in response the syntax is also similar.\n",
    "\n",
    "Two main ways you may want to access data in a dataframe might be:\n",
    "1. look at all the data in a single column\n",
    "2. look at all the data in a single row"
   ]
  },
  {
   "cell_type": "markdown",
   "id": "e479e307-74c4-4092-8d1d-e57984edee2b",
   "metadata": {
    "user_expressions": []
   },
   "source": [
    "### Accessing a column\n",
    "The syntax for this is akin to looking up an item in a dictionary or a value in a list, we use square brackets `[]`:"
   ]
  },
  {
   "cell_type": "code",
   "execution_count": 38,
   "id": "5b2d6937-14e8-4376-bf2c-375fbcd92d31",
   "metadata": {},
   "outputs": [
    {
     "data": {
      "text/plain": [
       "0    60\n",
       "1    65\n",
       "2    62\n",
       "3    80\n",
       "Name: humidity, dtype: int64"
      ]
     },
     "execution_count": 38,
     "metadata": {},
     "output_type": "execute_result"
    }
   ],
   "source": [
    "forecast['humidity']"
   ]
  },
  {
   "cell_type": "markdown",
   "id": "e10ec06b-048f-4ec8-89e6-b3f5418b200e",
   "metadata": {
    "user_expressions": []
   },
   "source": [
    "### Accessing a row by label\n",
    "\n",
    "The syntax for looking at a particular row is `.loc[]`. It still has square brackets `[]`, as we are seeing over and over again in Python for accessing values, but the new syntax here is the `loc` piece."
   ]
  },
  {
   "cell_type": "code",
   "execution_count": null,
   "id": "966b12b9-47d4-45f8-b186-c616706a2d93",
   "metadata": {},
   "outputs": [],
   "source": []
  },
  {
   "cell_type": "markdown",
   "id": "a8183b1f-dc19-4b0e-9483-72f992b9ff43",
   "metadata": {
    "user_expressions": []
   },
   "source": [
    "### Accessing a row by index\n",
    "When looking up data for a row we use the indexes, and the same `[]` syntax that we have seen in lists.  `pandas` uses the `[]` and `:` notation in the exact same way.  The only new addition is the `.iloc` syntax that goes before the square brackets `[]`."
   ]
  },
  {
   "cell_type": "code",
   "execution_count": 31,
   "id": "f5e4d6f0-7f26-4ece-9c6d-56e48d5180e9",
   "metadata": {},
   "outputs": [
    {
     "data": {
      "text/plain": [
       "temperature    27\n",
       "humidity       62\n",
       "wind_speed     10\n",
       "Name: 2, dtype: int64"
      ]
     },
     "execution_count": 31,
     "metadata": {},
     "output_type": "execute_result"
    }
   ],
   "source": [
    "# Display just the row of index 2\n",
    "forecast.iloc[2]"
   ]
  },
  {
   "cell_type": "code",
   "execution_count": 32,
   "id": "da88c4cf-a1db-4a13-b269-143ff4733a3d",
   "metadata": {},
   "outputs": [
    {
     "data": {
      "text/html": [
       "<div>\n",
       "<style scoped>\n",
       "    .dataframe tbody tr th:only-of-type {\n",
       "        vertical-align: middle;\n",
       "    }\n",
       "\n",
       "    .dataframe tbody tr th {\n",
       "        vertical-align: top;\n",
       "    }\n",
       "\n",
       "    .dataframe thead th {\n",
       "        text-align: right;\n",
       "    }\n",
       "</style>\n",
       "<table border=\"1\" class=\"dataframe\">\n",
       "  <thead>\n",
       "    <tr style=\"text-align: right;\">\n",
       "      <th></th>\n",
       "      <th>temperature</th>\n",
       "      <th>humidity</th>\n",
       "      <th>wind_speed</th>\n",
       "    </tr>\n",
       "  </thead>\n",
       "  <tbody>\n",
       "    <tr>\n",
       "      <th>2</th>\n",
       "      <td>27</td>\n",
       "      <td>62</td>\n",
       "      <td>10</td>\n",
       "    </tr>\n",
       "    <tr>\n",
       "      <th>3</th>\n",
       "      <td>31</td>\n",
       "      <td>80</td>\n",
       "      <td>6</td>\n",
       "    </tr>\n",
       "  </tbody>\n",
       "</table>\n",
       "</div>"
      ],
      "text/plain": [
       "   temperature  humidity  wind_speed\n",
       "2           27        62          10\n",
       "3           31        80           6"
      ]
     },
     "execution_count": 32,
     "metadata": {},
     "output_type": "execute_result"
    }
   ],
   "source": [
    "# Display rows index 2-3\n",
    "forecast.iloc[2:4]"
   ]
  },
  {
   "cell_type": "markdown",
   "id": "cd962cd7-9136-4f3c-83f6-7621fa3b8555",
   "metadata": {
    "user_expressions": []
   },
   "source": [
    "_The checkins below use the `forecast` dataframe we have been working with._\n",
    "\n",
    "```\n",
    "forecast = pd.DataFrame({\n",
    "    'temperature': [25, 20, 27, 31], \n",
    "    'humidity': [60, 65, 62, 80],\n",
    "    'wind_speed': [10, 9, 10, 6]\n",
    "})\n",
    "```"
   ]
  },
  {
   "cell_type": "code",
   "execution_count": null,
   "id": "12fa407a-2007-4ac0-bd01-2028cec6dca4",
   "metadata": {},
   "outputs": [],
   "source": [
    "forecast"
   ]
  },
  {
   "cell_type": "markdown",
   "id": "1142d3f0-94d7-4947-b4fb-1d0080eaf1f3",
   "metadata": {
    "user_expressions": []
   },
   "source": [
    "### Summary\n",
    "\n",
    "`.loc[]` and `.iloc[]` may be initially confusing at that is okay. Understanding the difference involves understanding how an index and an index label are different: An index is always a number starting from 0 and sequentially increasing. The label can be any type of text (or number) that references a row. Index labels are often dates/times, which is why pandas is a common tool for timeseries data.\n",
    "\n",
    "While I don't know of any formal or recognized shorthand for `loc` and `iloc`, I sometimes remember them by thinking that `loc` is for \"location\" and `iloc` is for \"integer location\". Calling `iloc` \"integer location\" isn't _strictly_ true 100% of the time, but it's still a helpful mental tool to help me remember which is which.\n",
    "\n",
    "```{image} ./images/accessing_pandas_values.jpg\n",
    ":alt: accessing values in pandas\n",
    ":width: 800px\n",
    ":align: center\n",
    "```"
   ]
  },
  {
   "cell_type": "markdown",
   "id": "30a381ec-34c4-4fae-9309-f60778afb34b",
   "metadata": {
    "user_expressions": []
   },
   "source": [
    ":::{admonition} Checkin\n",
    ":class: tip\n",
    "\n",
    "1. Write a line of code to get just the `wind_speed` column.\n",
    "2. Write a new line of code to get just the row of index 3.\n",
    "\n",
    ":::"
   ]
  },
  {
   "cell_type": "markdown",
   "id": "115c98e3-f9ce-4d52-8887-2a253092eab0",
   "metadata": {
    "user_expressions": []
   },
   "source": [
    ":::{admonition} Checkin\n",
    ":class: tip\n",
    "\n",
    "What is the value of `forecast['humidity'].iloc[2]`?\n",
    "\n",
    "a) the row: 27\t62\t10\n",
    "\n",
    "b) the column: 60  65  62  80\n",
    "\n",
    "c) the row: 20\t65\t9\n",
    "\n",
    "d) 65\n",
    "\n",
    "e) 62\n",
    "\n",
    ":::"
   ]
  },
  {
   "cell_type": "markdown",
   "id": "49f3773d-7d39-45d9-b41b-50bd0fb56e40",
   "metadata": {},
   "source": [
    "### 🌟 A note about assigning dataframes to variables\n",
    "It's easy to feel like when you do something to find one part of a dataframe (Ex. `forecast.iloc[2:4]` or `forecast['humidity']`) you have changed the dataframe.  This is not the case, however, and the original dataframe stays the same."
   ]
  },
  {
   "cell_type": "code",
   "execution_count": null,
   "id": "8e1551d9-fa78-4e3b-96d8-929b28c10c3a",
   "metadata": {},
   "outputs": [],
   "source": [
    "# Looking up the 2nd and 3rd indices of the forecast dataframe\n",
    "forecast.iloc[2:4]"
   ]
  },
  {
   "cell_type": "code",
   "execution_count": null,
   "id": "26db2584-9ef0-44d2-95a1-a6cb31ab54d2",
   "metadata": {},
   "outputs": [],
   "source": [
    "# `forecast` is still the same dataframe\n",
    "forecast"
   ]
  },
  {
   "cell_type": "markdown",
   "id": "4f460c35-21e3-4ad4-a4ab-7dc94f5a699d",
   "metadata": {},
   "source": [
    "This is nice for data exploration, when you don't want the values to change every time you look at them.  If you are trying to permanently change your data, you need to remember to update the dataframe by reassigning the variable."
   ]
  },
  {
   "cell_type": "code",
   "execution_count": null,
   "id": "687f319d-c00f-4c87-b7d1-ec1da1a4515b",
   "metadata": {},
   "outputs": [],
   "source": [
    "# Updating the forecast variable with just the two rows\n",
    "forecast = forecast.iloc[2:4]"
   ]
  },
  {
   "cell_type": "code",
   "execution_count": null,
   "id": "c2fa2e97-5403-4a21-97e6-a7d8348845a6",
   "metadata": {},
   "outputs": [],
   "source": [
    "# `forecast was updated`\n",
    "forecast"
   ]
  },
  {
   "cell_type": "markdown",
   "id": "1bb877ad-932c-4447-bdb3-dc64fb3071fb",
   "metadata": {
    "user_expressions": []
   },
   "source": [
    "## Using some real data"
   ]
  },
  {
   "cell_type": "code",
   "execution_count": 43,
   "id": "e4484f0c-6e27-4349-9e51-b92e1dbef639",
   "metadata": {},
   "outputs": [],
   "source": [
    "from pathlib import Path"
   ]
  },
  {
   "cell_type": "code",
   "execution_count": 44,
   "id": "fcc49e8a-e238-49a3-8ab2-d7f6a4c0000e",
   "metadata": {},
   "outputs": [],
   "source": [
    "DATADIR = Path('/efs/sarp/data/rawdata_readonly')"
   ]
  },
  {
   "cell_type": "code",
   "execution_count": 48,
   "id": "2b813f38-c034-4500-b78e-6556dd26b7d9",
   "metadata": {},
   "outputs": [],
   "source": [
    "file = (\n",
    "    DATADIR\n",
    "    / 'flight-test-data'\n",
    "    / 'discoveraq-mrg60-p3b_merge_20110701_R4.ict'\n",
    ")"
   ]
  },
  {
   "cell_type": "code",
   "execution_count": 49,
   "id": "b6c04992-992e-4100-a923-542fa1120622",
   "metadata": {},
   "outputs": [],
   "source": [
    "discover = pd.read_csv(file, skiprows=171)"
   ]
  },
  {
   "cell_type": "code",
   "execution_count": 50,
   "id": "0fd305a3-f58c-45ba-9868-ec1ef2542737",
   "metadata": {},
   "outputs": [
    {
     "data": {
      "text/plain": [
       "array([' UTC', ' JDAY', ' INDEX', ' FLIGHT', ' LOCAL_SUN_TIME',\n",
       "       ' LATITUDE', ' LONGITUDE', ' ALTP', ' PRESSURE', ' TEMPERATURE',\n",
       "       ' THETA', ' O3COLUMN', ' SZA', ' WNS', ' WND', ' FMS_TAS',\n",
       "       ' FMS_SAT', ' FMS_GRD_SPD', ' Heading', ' FMS_TRK', ' IRS_PITCH',\n",
       "       ' IRS_ROLL', ' IRS_VERT_ACC', ' ADC_IAS', ' GPS_ALT',\n",
       "       ' A_DewPoint', ' A_CabinPressure', ' A_SurfTemp', ' A_TotalTemp',\n",
       "       ' A_JNO2_Nadir', ' A_JNO2_Zenith', ' A_RadarAlt',\n",
       "       ' C_DiffPressure', ' C_PotTempDegK', ' C_MachNumber',\n",
       "       ' C_CabAltitude', ' C_VaporPresWater', ' C_SatVaporPresWater',\n",
       "       ' C_SatVaporPresIce', ' C_MixingRatio', ' C_RelHumidity',\n",
       "       ' ProfileNumber', ' SiteSeqNumber', ' MissedApproachNumber',\n",
       "       ' ProfileCenterBearing', ' H2O(DLH)', ' NO', ' NOy', ' NO2_NCAR',\n",
       "       ' O3', ' Carbon_Monoxide_mixing_ratio', ' Methane_mixing_ratio',\n",
       "       ' Carbon_dioxide_mixing_ratio', ' NO2_LIF', ' PNs_TD-LIF',\n",
       "       ' ANs_TD-LIF', ' HNO3_TD-LIF', ' CH2O_DFGAS', ' Abs470tot',\n",
       "       ' Abs532tot', ' Abs660tot', ' nAPS_total', ' sAPS_total',\n",
       "       ' vAPS_total', ' nAPS_fine(Daero_lt_1.0um)',\n",
       "       ' sAPS_fine(Daero_lt_1.0um)', ' vAPS_fine(Daero_lt_1.0um)',\n",
       "       ' nAPS_coarse(Daero_ge_1.0um)', ' sAPS_coarse(Daero_ge_1.0um)',\n",
       "       ' vAPS_coarse(Daero_ge_1.0um)', ' BlackCarbonMassConcentration',\n",
       "       ' CN>3nm', ' CN>10nm', ' nonvolCN>10nm', ' Scat450tot',\n",
       "       ' Scat550tot', ' Scat700tot', ' Scat450sub', ' Scat550sub',\n",
       "       ' Scat700sub', ' nUHSAS(60-1000_nm)', ' sUHSAS(60-1000_nm)',\n",
       "       ' vUHSAS(60-1000_nm)', ' nLAS(0.9-7.7_um)', ' sLAS(0.9-7.7_um)',\n",
       "       ' vLAS(0.9-7.7_um)',\n",
       "       ' Angstrom_Exponent_of_Scattering_at_450and700nm',\n",
       "       ' Angstrom_Exponent_of_Scattering_at_450and550nm',\n",
       "       ' Angstrom_Exponent_of_Absorption_at_450and700nm',\n",
       "       ' Angstrom_Exponent_of_Absorption_at_450and550nm',\n",
       "       ' SingleScatteringAlbedo_at_450nm',\n",
       "       ' SingleScatteringAlbedo_at_550nm',\n",
       "       ' SingleScatteringAlbedo_at_700nm',\n",
       "       ' SingleScatteringAlbedo_at_550nm(ambient)', ' nSMPS', ' sSMPS',\n",
       "       ' vSMPS', ' Acetaldehyde', ' Acetonitrile', ' Acetone',\n",
       "       ' Methanol', ' Toluene', ' Isoprene', ' MVK_MAC', ' Xylenes_ETB',\n",
       "       ' Monoterpenes', ' RHamb', ' RHdry', ' RHwet', ' SCdry', ' SCwet',\n",
       "       ' gamma', ' fRH_80_20', ' SCamb', ' EXTamb532', ' EXTdry532',\n",
       "       ' SCamb532', ' SCdry532', ' ABSdry532', ' Chloride', ' Nitrite',\n",
       "       ' Nitrate', ' Sulfate', ' Sodium', ' Ammonium', ' Potassium',\n",
       "       ' Magnesium', ' Calcium', ' Water-Soluble_Organic_Carbon_Mass'],\n",
       "      dtype=object)"
      ]
     },
     "execution_count": 50,
     "metadata": {},
     "output_type": "execute_result"
    }
   ],
   "source": [
    "discover.columns.values"
   ]
  },
  {
   "cell_type": "code",
   "execution_count": 73,
   "id": "5a6655f8-3c89-45b9-bf01-29e20bd2e759",
   "metadata": {},
   "outputs": [
    {
     "data": {
      "text/html": [
       "<div>\n",
       "<style scoped>\n",
       "    .dataframe tbody tr th:only-of-type {\n",
       "        vertical-align: middle;\n",
       "    }\n",
       "\n",
       "    .dataframe tbody tr th {\n",
       "        vertical-align: top;\n",
       "    }\n",
       "\n",
       "    .dataframe thead th {\n",
       "        text-align: right;\n",
       "    }\n",
       "</style>\n",
       "<table border=\"1\" class=\"dataframe\">\n",
       "  <thead>\n",
       "    <tr style=\"text-align: right;\">\n",
       "      <th></th>\n",
       "      <th>UTC</th>\n",
       "      <th>JDAY</th>\n",
       "      <th>INDEX</th>\n",
       "      <th>FLIGHT</th>\n",
       "      <th>LOCAL_SUN_TIME</th>\n",
       "      <th>LATITUDE</th>\n",
       "      <th>...</th>\n",
       "      <th>Sodium</th>\n",
       "      <th>Ammonium</th>\n",
       "      <th>Potassium</th>\n",
       "      <th>Magnesium</th>\n",
       "      <th>Calcium</th>\n",
       "      <th>Water-Soluble_Organic_Carbon_Mass</th>\n",
       "    </tr>\n",
       "  </thead>\n",
       "  <tbody>\n",
       "    <tr>\n",
       "      <th>0</th>\n",
       "      <td>51930</td>\n",
       "      <td>182</td>\n",
       "      <td>10001</td>\n",
       "      <td>1</td>\n",
       "      <td>9.403683</td>\n",
       "      <td>37.989785</td>\n",
       "      <td>...</td>\n",
       "      <td>-999999</td>\n",
       "      <td>-999999</td>\n",
       "      <td>-999999.0</td>\n",
       "      <td>-999999.0</td>\n",
       "      <td>-999999.0</td>\n",
       "      <td>-999999.000000</td>\n",
       "    </tr>\n",
       "    <tr>\n",
       "      <th>1</th>\n",
       "      <td>51990</td>\n",
       "      <td>182</td>\n",
       "      <td>10002</td>\n",
       "      <td>1</td>\n",
       "      <td>9.421592</td>\n",
       "      <td>37.988955</td>\n",
       "      <td>...</td>\n",
       "      <td>-999999</td>\n",
       "      <td>-999999</td>\n",
       "      <td>-999999.0</td>\n",
       "      <td>-999999.0</td>\n",
       "      <td>-999999.0</td>\n",
       "      <td>-999999.000000</td>\n",
       "    </tr>\n",
       "    <tr>\n",
       "      <th>2</th>\n",
       "      <td>52050</td>\n",
       "      <td>182</td>\n",
       "      <td>10003</td>\n",
       "      <td>1</td>\n",
       "      <td>9.436436</td>\n",
       "      <td>37.949315</td>\n",
       "      <td>...</td>\n",
       "      <td>-999999</td>\n",
       "      <td>-999999</td>\n",
       "      <td>-999999.0</td>\n",
       "      <td>-999999.0</td>\n",
       "      <td>-999999.0</td>\n",
       "      <td>-999999.000000</td>\n",
       "    </tr>\n",
       "    <tr>\n",
       "      <th>3</th>\n",
       "      <td>52110</td>\n",
       "      <td>182</td>\n",
       "      <td>10004</td>\n",
       "      <td>1</td>\n",
       "      <td>9.450309</td>\n",
       "      <td>37.923548</td>\n",
       "      <td>...</td>\n",
       "      <td>-999999</td>\n",
       "      <td>-999999</td>\n",
       "      <td>-999999.0</td>\n",
       "      <td>-999999.0</td>\n",
       "      <td>-999999.0</td>\n",
       "      <td>-999999.000000</td>\n",
       "    </tr>\n",
       "    <tr>\n",
       "      <th>4</th>\n",
       "      <td>52170</td>\n",
       "      <td>182</td>\n",
       "      <td>10005</td>\n",
       "      <td>1</td>\n",
       "      <td>9.466201</td>\n",
       "      <td>37.962125</td>\n",
       "      <td>...</td>\n",
       "      <td>-999999</td>\n",
       "      <td>-999999</td>\n",
       "      <td>-999999.0</td>\n",
       "      <td>-999999.0</td>\n",
       "      <td>-999999.0</td>\n",
       "      <td>-999999.000000</td>\n",
       "    </tr>\n",
       "    <tr>\n",
       "      <th>...</th>\n",
       "      <td>...</td>\n",
       "      <td>...</td>\n",
       "      <td>...</td>\n",
       "      <td>...</td>\n",
       "      <td>...</td>\n",
       "      <td>...</td>\n",
       "      <td>...</td>\n",
       "      <td>...</td>\n",
       "      <td>...</td>\n",
       "      <td>...</td>\n",
       "      <td>...</td>\n",
       "      <td>...</td>\n",
       "      <td>...</td>\n",
       "    </tr>\n",
       "    <tr>\n",
       "      <th>423</th>\n",
       "      <td>77310</td>\n",
       "      <td>182</td>\n",
       "      <td>10424</td>\n",
       "      <td>1</td>\n",
       "      <td>16.450163</td>\n",
       "      <td>38.157933</td>\n",
       "      <td>...</td>\n",
       "      <td>-999999</td>\n",
       "      <td>-999999</td>\n",
       "      <td>-999999.0</td>\n",
       "      <td>-999999.0</td>\n",
       "      <td>-999999.0</td>\n",
       "      <td>1.141667</td>\n",
       "    </tr>\n",
       "    <tr>\n",
       "      <th>424</th>\n",
       "      <td>77370</td>\n",
       "      <td>182</td>\n",
       "      <td>10425</td>\n",
       "      <td>1</td>\n",
       "      <td>16.468866</td>\n",
       "      <td>38.108382</td>\n",
       "      <td>...</td>\n",
       "      <td>-999999</td>\n",
       "      <td>-999999</td>\n",
       "      <td>-999999.0</td>\n",
       "      <td>-999999.0</td>\n",
       "      <td>-999999.0</td>\n",
       "      <td>1.145000</td>\n",
       "    </tr>\n",
       "    <tr>\n",
       "      <th>425</th>\n",
       "      <td>77430</td>\n",
       "      <td>182</td>\n",
       "      <td>10426</td>\n",
       "      <td>1</td>\n",
       "      <td>16.487703</td>\n",
       "      <td>38.061325</td>\n",
       "      <td>...</td>\n",
       "      <td>-999999</td>\n",
       "      <td>-999999</td>\n",
       "      <td>-999999.0</td>\n",
       "      <td>-999999.0</td>\n",
       "      <td>-999999.0</td>\n",
       "      <td>-999999.000000</td>\n",
       "    </tr>\n",
       "    <tr>\n",
       "      <th>426</th>\n",
       "      <td>77490</td>\n",
       "      <td>182</td>\n",
       "      <td>10427</td>\n",
       "      <td>1</td>\n",
       "      <td>16.505194</td>\n",
       "      <td>38.013657</td>\n",
       "      <td>...</td>\n",
       "      <td>-999999</td>\n",
       "      <td>-999999</td>\n",
       "      <td>-999999.0</td>\n",
       "      <td>-999999.0</td>\n",
       "      <td>-999999.0</td>\n",
       "      <td>-999999.000000</td>\n",
       "    </tr>\n",
       "    <tr>\n",
       "      <th>427</th>\n",
       "      <td>77550</td>\n",
       "      <td>182</td>\n",
       "      <td>10428</td>\n",
       "      <td>1</td>\n",
       "      <td>16.520896</td>\n",
       "      <td>37.972985</td>\n",
       "      <td>...</td>\n",
       "      <td>-999999</td>\n",
       "      <td>-999999</td>\n",
       "      <td>-999999.0</td>\n",
       "      <td>-999999.0</td>\n",
       "      <td>-999999.0</td>\n",
       "      <td>-999999.000000</td>\n",
       "    </tr>\n",
       "  </tbody>\n",
       "</table>\n",
       "<p>428 rows × 129 columns</p>\n",
       "</div>"
      ],
      "text/plain": [
       "       UTC   JDAY   INDEX   FLIGHT   LOCAL_SUN_TIME   LATITUDE  ...   Sodium  \\\n",
       "0    51930    182   10001        1         9.403683  37.989785  ...  -999999   \n",
       "1    51990    182   10002        1         9.421592  37.988955  ...  -999999   \n",
       "2    52050    182   10003        1         9.436436  37.949315  ...  -999999   \n",
       "3    52110    182   10004        1         9.450309  37.923548  ...  -999999   \n",
       "4    52170    182   10005        1         9.466201  37.962125  ...  -999999   \n",
       "..     ...    ...     ...      ...              ...        ...  ...      ...   \n",
       "423  77310    182   10424        1        16.450163  38.157933  ...  -999999   \n",
       "424  77370    182   10425        1        16.468866  38.108382  ...  -999999   \n",
       "425  77430    182   10426        1        16.487703  38.061325  ...  -999999   \n",
       "426  77490    182   10427        1        16.505194  38.013657  ...  -999999   \n",
       "427  77550    182   10428        1        16.520896  37.972985  ...  -999999   \n",
       "\n",
       "      Ammonium   Potassium   Magnesium   Calcium  \\\n",
       "0      -999999   -999999.0   -999999.0 -999999.0   \n",
       "1      -999999   -999999.0   -999999.0 -999999.0   \n",
       "2      -999999   -999999.0   -999999.0 -999999.0   \n",
       "3      -999999   -999999.0   -999999.0 -999999.0   \n",
       "4      -999999   -999999.0   -999999.0 -999999.0   \n",
       "..         ...         ...         ...       ...   \n",
       "423    -999999   -999999.0   -999999.0 -999999.0   \n",
       "424    -999999   -999999.0   -999999.0 -999999.0   \n",
       "425    -999999   -999999.0   -999999.0 -999999.0   \n",
       "426    -999999   -999999.0   -999999.0 -999999.0   \n",
       "427    -999999   -999999.0   -999999.0 -999999.0   \n",
       "\n",
       "      Water-Soluble_Organic_Carbon_Mass  \n",
       "0                        -999999.000000  \n",
       "1                        -999999.000000  \n",
       "2                        -999999.000000  \n",
       "3                        -999999.000000  \n",
       "4                        -999999.000000  \n",
       "..                                  ...  \n",
       "423                            1.141667  \n",
       "424                            1.145000  \n",
       "425                      -999999.000000  \n",
       "426                      -999999.000000  \n",
       "427                      -999999.000000  \n",
       "\n",
       "[428 rows x 129 columns]"
      ]
     },
     "execution_count": 73,
     "metadata": {},
     "output_type": "execute_result"
    }
   ],
   "source": [
    "discover"
   ]
  },
  {
   "cell_type": "markdown",
   "id": "e7ed4c7b-86b8-48de-b0a1-1bd436419a73",
   "metadata": {
    "user_expressions": []
   },
   "source": [
    "## Functions/methods for pandas dataframes\n",
    "\n",
    "The dataframe represents the data but functions or methods allow us to manipulate that data. Let's look at a few examples using a single column of the `discover` dataframe, the relative humidity."
   ]
  },
  {
   "cell_type": "code",
   "execution_count": 82,
   "id": "a4a8ccad-ce5e-4df9-8fc5-f1a2f7a6daea",
   "metadata": {},
   "outputs": [
    {
     "data": {
      "text/plain": [
       "0      50.204500\n",
       "1      54.015667\n",
       "2      47.659000\n",
       "3      47.801167\n",
       "4      52.815000\n",
       "         ...    \n",
       "423    71.283167\n",
       "424    65.042333\n",
       "425    64.859500\n",
       "426    67.741333\n",
       "427    70.299500\n",
       "Name:  RHamb, Length: 428, dtype: float64"
      ]
     },
     "execution_count": 82,
     "metadata": {},
     "output_type": "execute_result"
    }
   ],
   "source": [
    "discover[' RHamb']"
   ]
  },
  {
   "cell_type": "markdown",
   "id": "58221ee3-5788-4a0d-be4c-7b572bf414eb",
   "metadata": {
    "user_expressions": []
   },
   "source": [
    "Some aggregations:"
   ]
  },
  {
   "cell_type": "code",
   "execution_count": 80,
   "id": "fdf2d4c6-223b-4b5c-b842-a30d48290208",
   "metadata": {},
   "outputs": [
    {
     "data": {
      "text/plain": [
       "36.807866043544394"
      ]
     },
     "execution_count": 80,
     "metadata": {},
     "output_type": "execute_result"
    }
   ],
   "source": [
    "discover[' RHamb'].mean()"
   ]
  },
  {
   "cell_type": "code",
   "execution_count": 79,
   "id": "60ed12fe-cfcd-4040-95c4-d76a29b7d05f",
   "metadata": {},
   "outputs": [
    {
     "data": {
      "text/plain": [
       "18.736073018487495"
      ]
     },
     "execution_count": 79,
     "metadata": {},
     "output_type": "execute_result"
    }
   ],
   "source": [
    "discover[' RHamb'].std()"
   ]
  },
  {
   "cell_type": "markdown",
   "id": "96875266-5bf4-42a1-bea3-084666d13ff0",
   "metadata": {
    "user_expressions": []
   },
   "source": [
    "We can use comparisons to check values"
   ]
  },
  {
   "cell_type": "code",
   "execution_count": 85,
   "id": "82c2ca88-80a0-49bc-8557-8abe224f92ff",
   "metadata": {},
   "outputs": [
    {
     "data": {
      "text/plain": [
       "0       True\n",
       "1       True\n",
       "2      False\n",
       "3      False\n",
       "4       True\n",
       "       ...  \n",
       "423     True\n",
       "424     True\n",
       "425     True\n",
       "426     True\n",
       "427     True\n",
       "Name:  RHamb, Length: 428, dtype: bool"
      ]
     },
     "execution_count": 85,
     "metadata": {},
     "output_type": "execute_result"
    }
   ],
   "source": [
    "discover[' RHamb'] > 50"
   ]
  },
  {
   "cell_type": "markdown",
   "id": "611aa704-488d-42ba-a9f0-5038c5a0838b",
   "metadata": {
    "user_expressions": []
   },
   "source": [
    "Using a comparison together with a `.sum()` gives us the number of rows that meet the condition."
   ]
  },
  {
   "cell_type": "code",
   "execution_count": 88,
   "id": "87f007d9-e50b-4de5-a4e7-5eed07c7687c",
   "metadata": {},
   "outputs": [
    {
     "data": {
      "text/plain": [
       "108"
      ]
     },
     "execution_count": 88,
     "metadata": {},
     "output_type": "execute_result"
    }
   ],
   "source": [
    "rd_over_50 = discover[' RHamb'] > 50\n",
    "rd_over_50.sum()"
   ]
  },
  {
   "cell_type": "markdown",
   "id": "b4b799bc-9bf2-44cc-8c13-341659df390f",
   "metadata": {
    "user_expressions": []
   },
   "source": [
    "Let's take a look at another column, CO."
   ]
  },
  {
   "cell_type": "code",
   "execution_count": 70,
   "id": "0a23ec40-99fc-4534-9a78-f45f2850f2a4",
   "metadata": {},
   "outputs": [
    {
     "data": {
      "text/plain": [
       "0      144.336400\n",
       "1      146.655167\n",
       "2      143.108367\n",
       "3      144.393611\n",
       "4      143.252833\n",
       "          ...    \n",
       "423    143.836500\n",
       "424    144.404167\n",
       "425    143.722571\n",
       "426    146.834500\n",
       "427    152.337167\n",
       "Name:  Carbon_Monoxide_mixing_ratio, Length: 428, dtype: float64"
      ]
     },
     "execution_count": 70,
     "metadata": {},
     "output_type": "execute_result"
    }
   ],
   "source": [
    "discover[' Carbon_Monoxide_mixing_ratio']"
   ]
  },
  {
   "cell_type": "code",
   "execution_count": 89,
   "id": "942e09e7-a88c-4009-94d9-0e13a34f0074",
   "metadata": {},
   "outputs": [
    {
     "data": {
      "text/plain": [
       "-11550.41168590564"
      ]
     },
     "execution_count": 89,
     "metadata": {},
     "output_type": "execute_result"
    }
   ],
   "source": [
    "discover[' Carbon_Monoxide_mixing_ratio'].mean()"
   ]
  },
  {
   "cell_type": "markdown",
   "id": "15163f95-497d-4033-87d3-cfa5101fbb62",
   "metadata": {
    "user_expressions": []
   },
   "source": [
    "A negative value? Why might that be? If we look back at the data we see that there are very large negative numbers (-999999) that likely represent nodata values.\n",
    "\n",
    "One way to confirm this is the case would be to sort the rows. The method for this is `.sort_values()`. It's worth taking a moment to glance at [the documentation page](https://pandas.pydata.org/docs/reference/api/pandas.DataFrame.sort_values.html) for `.sort_values()`."
   ]
  },
  {
   "cell_type": "code",
   "execution_count": 90,
   "id": "9e6b779c-6fe5-4f37-9868-59e30891c65d",
   "metadata": {},
   "outputs": [
    {
     "data": {
      "text/plain": [
       "310   -999999.000000\n",
       "187   -999999.000000\n",
       "311   -999999.000000\n",
       "188   -999999.000000\n",
       "26    -999999.000000\n",
       "           ...      \n",
       "249       167.402368\n",
       "267       169.639000\n",
       "254       169.929500\n",
       "387       170.772500\n",
       "386       170.895000\n",
       "Name:  Carbon_Monoxide_mixing_ratio, Length: 428, dtype: float64"
      ]
     },
     "execution_count": 90,
     "metadata": {},
     "output_type": "execute_result"
    }
   ],
   "source": [
    "discover[' Carbon_Monoxide_mixing_ratio'].sort_values()"
   ]
  },
  {
   "cell_type": "code",
   "execution_count": 91,
   "id": "b0337e8e-2453-4ca1-84bb-65f3ea0dda4b",
   "metadata": {},
   "outputs": [
    {
     "data": {
      "text/plain": [
       "386       170.895000\n",
       "387       170.772500\n",
       "254       169.929500\n",
       "267       169.639000\n",
       "249       167.402368\n",
       "           ...      \n",
       "26    -999999.000000\n",
       "187   -999999.000000\n",
       "188   -999999.000000\n",
       "310   -999999.000000\n",
       "311   -999999.000000\n",
       "Name:  Carbon_Monoxide_mixing_ratio, Length: 428, dtype: float64"
      ]
     },
     "execution_count": 91,
     "metadata": {},
     "output_type": "execute_result"
    }
   ],
   "source": [
    "discover[' Carbon_Monoxide_mixing_ratio'].sort_values(ascending=False)"
   ]
  },
  {
   "cell_type": "markdown",
   "id": "3ca4b369-a092-4a4f-81b9-380c01466b52",
   "metadata": {
    "user_expressions": []
   },
   "source": [
    "### A long chain of commands\n",
    "\n",
    "With pandas you can string several commands together. This is a nice feature, but can make reading other people's code intimidating sometimes. If you see a long string step back and tackle reading it one method at a time."
   ]
  },
  {
   "cell_type": "code",
   "execution_count": 99,
   "id": "e43b195b-3d17-4d09-9b6f-314d55bb91a8",
   "metadata": {},
   "outputs": [
    {
     "data": {
      "text/plain": [
       "0.2505854800936768"
      ]
     },
     "execution_count": 99,
     "metadata": {},
     "output_type": "execute_result"
    }
   ],
   "source": [
    "(discover[' RHamb'] > 50).sort_values(ascending=False).drop(0).mean()"
   ]
  },
  {
   "cell_type": "code",
   "execution_count": null,
   "id": "b8921022-c164-4051-b90f-471c14c16d91",
   "metadata": {},
   "outputs": [],
   "source": []
  }
 ],
 "metadata": {
  "kernelspec": {
   "display_name": "Python [conda env:notebook] *",
   "language": "python",
   "name": "conda-env-notebook-py"
  },
  "language_info": {
   "codemirror_mode": {
    "name": "ipython",
    "version": 3
   },
   "file_extension": ".py",
   "mimetype": "text/x-python",
   "name": "python",
   "nbconvert_exporter": "python",
   "pygments_lexer": "ipython3",
   "version": "3.9.13"
  }
 },
 "nbformat": 4,
 "nbformat_minor": 5
}
