{
 "cells": [
  {
   "cell_type": "markdown",
   "id": "f0ecd9b3-f92e-4ff5-ae50-650532c120e1",
   "metadata": {
    "user_expressions": []
   },
   "source": [
    "# Working with time series data"
   ]
  },
  {
   "cell_type": "markdown",
   "id": "e8fc83ef-f209-466c-95d3-38251f03f722",
   "metadata": {
    "user_expressions": []
   },
   "source": [
    "::::{grid}\n",
    "\n",
    ":::{card}\n",
    ":header: Context 🤔 \n",
    "TODO: Today we are getting started with code! We'll be: 1) Learning to use a Jupyter notebook 2) Establishing some of the base code ingredients such as variables and data types\n",
    ":::\n",
    "\n",
    ":::{card}\n",
    ":header: Outcome 🎓 \n",
    "TODO: Get comfortable assigning and manipulating varibles. Be able to name several data types.\n",
    ":::\n",
    "\n",
    ":::{card}\n",
    ":header: Skills 🤓 \n",
    "TODO: Navigating the JupyterHub and Jupyter Notebooks. \n",
    "::: \n",
    "::::"
   ]
  },
  {
   "cell_type": "code",
   "execution_count": null,
   "id": "34c6290d-54b5-451d-b0f8-6d4c032a6b8b",
   "metadata": {},
   "outputs": [],
   "source": []
  },
  {
   "cell_type": "code",
   "execution_count": null,
   "id": "5a80f082-1642-456c-8627-e0b02733fc67",
   "metadata": {},
   "outputs": [],
   "source": []
  },
  {
   "cell_type": "code",
   "execution_count": null,
   "id": "e3235081-1fb4-4124-ab61-21935113e090",
   "metadata": {},
   "outputs": [],
   "source": []
  },
  {
   "cell_type": "code",
   "execution_count": null,
   "id": "fcc49e8a-e238-49a3-8ab2-d7f6a4c0000e",
   "metadata": {},
   "outputs": [],
   "source": []
  }
 ],
 "metadata": {
  "kernelspec": {
   "display_name": "Python [conda env:notebook] *",
   "language": "python",
   "name": "conda-env-notebook-py"
  },
  "language_info": {
   "codemirror_mode": {
    "name": "ipython",
    "version": 3
   },
   "file_extension": ".py",
   "mimetype": "text/x-python",
   "name": "python",
   "nbconvert_exporter": "python",
   "pygments_lexer": "ipython3",
   "version": "3.9.13"
  }
 },
 "nbformat": 4,
 "nbformat_minor": 5
}
