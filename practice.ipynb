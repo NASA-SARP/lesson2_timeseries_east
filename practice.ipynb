{
 "cells": [
  {
   "cell_type": "markdown",
   "id": "8bd0ee15-999d-48c2-bc8a-52197ab770cb",
   "metadata": {
    "user_expressions": []
   },
   "source": [
    "# Practice for Lesson 2: Timeseries Data"
   ]
  },
  {
   "cell_type": "markdown",
   "id": "68130d3f-48d3-4fde-8559-6002e95b8df1",
   "metadata": {
    "user_expressions": []
   },
   "source": [
    "## Problem 1\n",
    "\n",
    "[This article](https://towardsdatascience.com/python-list-methods-fa7c53010300) linked in the lecture describes a few common list methods.  Scroll down to where the article talks about `pop()` and apply that to our `pollutants` list by removing 'co' from the list."
   ]
  },
  {
   "cell_type": "code",
   "execution_count": null,
   "id": "17cb8c90-c5df-4205-8570-fc97cd3a152f",
   "metadata": {},
   "outputs": [],
   "source": [
    "pollutants = ['co', 'co2', 'no2', 'o3']"
   ]
  },
  {
   "cell_type": "code",
   "execution_count": null,
   "id": "513bede0-1e7d-4e82-9342-0b22248f80d4",
   "metadata": {},
   "outputs": [],
   "source": []
  },
  {
   "cell_type": "markdown",
   "id": "765e0423-0487-4ae7-8b2e-5599376f0e4e",
   "metadata": {
    "user_expressions": []
   },
   "source": [
    ":::{dropdown} Solution\n",
    "```\n",
    "pollutants.pop(0)\n",
    "print(pollutants)\n",
    "```\n",
    ":::"
   ]
  },
  {
   "cell_type": "markdown",
   "id": "aebcfa0d-e713-4e06-a504-5b4c902d5786",
   "metadata": {
    "user_expressions": []
   },
   "source": [
    "## Problem 2\n",
    "\n",
    "In the lecture notebook we used a DISCOVER-AQ datafile from July 1st 2011. There is another DISCOVER-AQ datafile in that folder from July 2nd. It is located in the following filepath: `efs` > `sarp` > `data` > `rawdata_readonly` > `flight-test-data` > `discoveraq-mrg60-p3b_merge_20110702_R4.ict`. Open that datafile with pandas. Print the column names and then display the `NO` column of data."
   ]
  },
  {
   "cell_type": "code",
   "execution_count": null,
   "id": "76b1a65e-bc91-4616-b1f3-f9b392b49e64",
   "metadata": {},
   "outputs": [],
   "source": []
  },
  {
   "cell_type": "code",
   "execution_count": null,
   "id": "1a607f2e-9331-4a08-912b-8d932ce3f2ea",
   "metadata": {},
   "outputs": [],
   "source": []
  },
  {
   "cell_type": "markdown",
   "id": "c4bacf21-b677-4a59-bc3c-d2c9d298d53a",
   "metadata": {
    "user_expressions": []
   },
   "source": [
    ":::{dropdown} Solution\n",
    "```\n",
    "from pathlib import Path\n",
    "\n",
    "import pandas as pd\n",
    "\n",
    "DATADIR = Path('/efs/sarp/data/rawdata_readonly')\n",
    "\n",
    "file = (\n",
    "    DATADIR\n",
    "    / 'flight-test-data'\n",
    "    / 'discoveraq-mrg60-p3b_merge_20110702_R4.ict'\n",
    ")\n",
    "\n",
    "discover = pd.read_csv(file, skiprows=171)\n",
    "# print the column names\n",
    "print(discover.columns.values)\n",
    "# print the NO column of data\n",
    "print(discover[' NO'])\n",
    "\n",
    "```\n",
    ":::"
   ]
  },
  {
   "cell_type": "markdown",
   "id": "d2e44c0e-529a-480b-9749-71633fb171ea",
   "metadata": {
    "user_expressions": []
   },
   "source": [
    "## Problem 3\n",
    "\n",
    "We noted in lecture that our data frame has no data values in it: -999999 and -888888. Change these values to a NaN (Not a Number) value. You can use either numpy's nan (`np.nan`) or pandas `pd.NA`. (If you use numpy be sure to `import numpy as np`). Update your dataframe with the nan-filled dataframe."
   ]
  },
  {
   "cell_type": "code",
   "execution_count": null,
   "id": "d3d9d72c-036a-481b-9c39-cb9f3eb147fc",
   "metadata": {},
   "outputs": [],
   "source": []
  },
  {
   "cell_type": "code",
   "execution_count": null,
   "id": "65860b5b-9ba1-4334-b9bc-1bd18c3375b4",
   "metadata": {},
   "outputs": [],
   "source": []
  },
  {
   "cell_type": "code",
   "execution_count": null,
   "id": "ea1b7cfb-be68-41c3-9bd1-9b4e33650fce",
   "metadata": {},
   "outputs": [],
   "source": []
  },
  {
   "cell_type": "markdown",
   "id": "28c133d4-8f19-4399-93fb-738a3ccd377a",
   "metadata": {
    "user_expressions": []
   },
   "source": [
    ":::{dropdown} Hint\n",
    "\n",
    "Google suggestion: \"pandas substitute -9999 for nan\"\n",
    "\n",
    ":::"
   ]
  },
  {
   "cell_type": "markdown",
   "id": "653450d2-d602-4407-9f73-168c7b9a3ae7",
   "metadata": {
    "user_expressions": []
   },
   "source": [
    ":::{dropdown} Hint\n",
    "\n",
    "Potentially [helpful link](https://sparkbyexamples.com/pandas/pandas-replace-nan-values-by-zero-in-a-column/).\n",
    "\n",
    ":::"
   ]
  },
  {
   "cell_type": "markdown",
   "id": "f007b1ad-8d29-4dba-9a25-df2611e95c32",
   "metadata": {
    "user_expressions": []
   },
   "source": [
    ":::{dropdown} Solution\n",
    "```\n",
    "import numpy as np\n",
    "discover = discover.replace([-999999, -888888], np.nan)\n",
    "```\n",
    ":::"
   ]
  }
 ],
 "metadata": {
  "kernelspec": {
   "display_name": "Python [conda env:notebook] *",
   "language": "python",
   "name": "conda-env-notebook-py"
  },
  "language_info": {
   "codemirror_mode": {
    "name": "ipython",
    "version": 3
   },
   "file_extension": ".py",
   "mimetype": "text/x-python",
   "name": "python",
   "nbconvert_exporter": "python",
   "pygments_lexer": "ipython3",
   "version": "3.9.13"
  }
 },
 "nbformat": 4,
 "nbformat_minor": 5
}
